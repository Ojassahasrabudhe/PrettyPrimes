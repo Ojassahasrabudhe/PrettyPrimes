{
  "nbformat": 4,
  "nbformat_minor": 0,
  "metadata": {
    "colab": {
      "name": "DX2P_SingleTLU_Perceptron.ipynb",
      "provenance": [],
      "collapsed_sections": []
    },
    "kernelspec": {
      "name": "python3",
      "display_name": "Python 3"
    }
  },
  "cells": [
    {
      "cell_type": "markdown",
      "metadata": {
        "id": "p9iaISB0KlbO",
        "colab_type": "text"
      },
      "source": [
        "\n",
        "#**What is a perceptron?**\n",
        "\n",
        "The perceptron is one of the earliest simple feed forward neural networks used for binary classification of data. Specifically, a one neuron system is a single perceptron. One layer of these is called a single layer perceptron. It is an example of supervised learning. Despite its simplicity, it yields a powerful model for accurate classification.\n",
        "\n",
        "**The network and learning algorithm:**\n",
        "\n",
        "The perceptron network begins with input neurons which is a vector of the input features. Each feature is assigned a weight as it feeds into a neuron called a threshold logic unit. In addition, there is a biasing input vector which just has the number 1 as its elements, along with a corresponding weight.These are fed as a linear combination or a vector product of the input vectors and weight vectors into a single layer of neurons. This linear combination mathematically represents a linear decision boundary in the multi-dimensional space where every input feature forms one axis. The aim is to find the linear decision boundary by finding the optimal weights and bias such that it separates the instances of the two classes. \n",
        "\n",
        "The neurons then run a non-linear activation function (mathematical operation) on the weighted sums to yield values typically between 0 and 1 or between -1 and 1. Common functions to achieve these intervals are the binary sigmoidal function and the bipolar sigmoidal function respectively. The output of this function is our predicted output. The desired outputs are 0,1 or -1,1 depending on the problem which is basically deciding whether an input instance belongs to class 0 (or class -1) or class 1. The way the model learns is by being penalized for the errors it makes in prediction as it runs or is trained for every instance.\n",
        "\n",
        "The error in prediction is computed in terms of the cost function. The aim is to minimize the cost function. We run an iterative code through the instances of the input to run the partial differentiation of the cost function with respect to the weights. We update these weights incrementally in the direction opposite to the gradient descent, measure the cost function again and repeat the process. The algorithm could be that of an online or offline learning model. The whole sequence is run either for large enough iterations to expect a low error, or till a certain desired minimum value of cost function, as set by us, is reached. Finally, for each instance, the output will be one of two classes. This is how single-layer perceptrons work.\n",
        "\n",
        "**Pros and Cons:**\n",
        "\n",
        "Perceptrons are fairly simple models to understand and implement, and are good for linearly separable data (e.g. classifying flowers as Setosa or Versicolor using the iris dataset). This very point is a limitation in the broader context as in the real world though, data may not be typically not linearly separable. For example, a XOR problem cannot be solved by a single layer of perceptrons. The need to classify non-linearly separable data is what then gave rise to multi-layer perceptrons or other models such as support vector machines, kernel functions, etc. \n",
        "\n",
        "Despite the scale of application, it is important to know what perceptrons are and how they function as they served as the building blocks of neural networks, and still continue to showcase the power of simplicity. \n",
        "\n",
        "\n",
        "\n",
        "\n",
        "\n",
        "\n",
        "\n",
        "\n",
        "\n",
        "\n",
        "\n",
        "\n"
      ]
    },
    {
      "cell_type": "markdown",
      "metadata": {
        "id": "Q0eIaqT05tYW",
        "colab_type": "text"
      },
      "source": [
        "# **Solving the NAND Gate : Single TLU Perceptron from Scratch**\n",
        "\n",
        "Task: To predict the outcome of the NAND gate\n",
        "\n",
        "**What is a NAND gate?**\n",
        "\n",
        "It is a logical gate that computes the outcome based on two binary inputs of 1 (True) and 0(False). \n",
        "\n"
      ]
    },
    {
      "cell_type": "markdown",
      "metadata": {
        "id": "LqI_NRhPGU5f",
        "colab_type": "text"
      },
      "source": [
        "\n",
        "Input 1 | Input 2 | Output\n",
        ":---|:---:|---:\n",
        "True|True|False\n",
        "False|True|True\n",
        "True|False|True\n",
        "False|False|True"
      ]
    },
    {
      "cell_type": "markdown",
      "metadata": {
        "id": "-Egvm0r6Hpoc",
        "colab_type": "text"
      },
      "source": [
        "Input 1 | Input 2 | Output\n",
        ":---|:---:|---:\n",
        "1|1|0\n",
        "0|1|1\n",
        "1|0|1\n",
        "0|0|1"
      ]
    },
    {
      "cell_type": "markdown",
      "metadata": {
        "id": "yde9-2RIGXug",
        "colab_type": "text"
      },
      "source": [
        "\n",
        "In our code, we take these data points. We have four 2-featured instances as our input. We code a single layer perceptron from scratch that predicts the outcome correctly. \n",
        "\n",
        "**What does coding a neural network from scratch imply?**\n",
        "\n",
        "We do not use inbuilt libraries for machine/ deep learning such as those in scikit-learn, keras or tensor flow.  We use only numpy, pandas, and write functions to make the model, train, fit, predict and evaluate it. \n",
        "\n",
        "Let's get started!"
      ]
    },
    {
      "cell_type": "markdown",
      "metadata": {
        "id": "avbYReabDIFO",
        "colab_type": "text"
      },
      "source": [
        "## STEP 1. Import the necessary libraries/ functions and get the data ready"
      ]
    },
    {
      "cell_type": "code",
      "metadata": {
        "id": "WOF3RGEoWI9b",
        "colab_type": "code",
        "colab": {}
      },
      "source": [
        "import numpy as np\n",
        "import pandas as pd"
      ],
      "execution_count": 0,
      "outputs": []
    },
    {
      "cell_type": "code",
      "metadata": {
        "id": "1qext1qt8Nrf",
        "colab_type": "code",
        "outputId": "f494cae7-09c9-4b51-9a13-621575c19c2c",
        "colab": {
          "base_uri": "https://localhost:8080/",
          "height": 168
        }
      },
      "source": [
        "#We are creating the NAND table data here\n",
        "data=pd.DataFrame([[0,0,1],[0,1,1],[1,0,1],[1,1,0]],columns=[\"x1\",\"x2\",\"y\"])\n",
        "data"
      ],
      "execution_count": 0,
      "outputs": [
        {
          "output_type": "execute_result",
          "data": {
            "text/html": [
              "<div>\n",
              "<style scoped>\n",
              "    .dataframe tbody tr th:only-of-type {\n",
              "        vertical-align: middle;\n",
              "    }\n",
              "\n",
              "    .dataframe tbody tr th {\n",
              "        vertical-align: top;\n",
              "    }\n",
              "\n",
              "    .dataframe thead th {\n",
              "        text-align: right;\n",
              "    }\n",
              "</style>\n",
              "<table border=\"1\" class=\"dataframe\">\n",
              "  <thead>\n",
              "    <tr style=\"text-align: right;\">\n",
              "      <th></th>\n",
              "      <th>x1</th>\n",
              "      <th>x2</th>\n",
              "      <th>y</th>\n",
              "    </tr>\n",
              "  </thead>\n",
              "  <tbody>\n",
              "    <tr>\n",
              "      <th>0</th>\n",
              "      <td>0</td>\n",
              "      <td>0</td>\n",
              "      <td>1</td>\n",
              "    </tr>\n",
              "    <tr>\n",
              "      <th>1</th>\n",
              "      <td>0</td>\n",
              "      <td>1</td>\n",
              "      <td>1</td>\n",
              "    </tr>\n",
              "    <tr>\n",
              "      <th>2</th>\n",
              "      <td>1</td>\n",
              "      <td>0</td>\n",
              "      <td>1</td>\n",
              "    </tr>\n",
              "    <tr>\n",
              "      <th>3</th>\n",
              "      <td>1</td>\n",
              "      <td>1</td>\n",
              "      <td>0</td>\n",
              "    </tr>\n",
              "  </tbody>\n",
              "</table>\n",
              "</div>"
            ],
            "text/plain": [
              "   x1  x2  y\n",
              "0   0   0  1\n",
              "1   0   1  1\n",
              "2   1   0  1\n",
              "3   1   1  0"
            ]
          },
          "metadata": {
            "tags": []
          },
          "execution_count": 2
        }
      ]
    },
    {
      "cell_type": "code",
      "metadata": {
        "id": "fY3Od0WN9Fxt",
        "colab_type": "code",
        "outputId": "81c9c9a8-a538-407f-eb01-91e5c620964a",
        "colab": {
          "base_uri": "https://localhost:8080/",
          "height": 168
        }
      },
      "source": [
        "#Creating a data frame only with the input values\n",
        "X=data.iloc[:,0:2]\n",
        "X"
      ],
      "execution_count": 0,
      "outputs": [
        {
          "output_type": "execute_result",
          "data": {
            "text/html": [
              "<div>\n",
              "<style scoped>\n",
              "    .dataframe tbody tr th:only-of-type {\n",
              "        vertical-align: middle;\n",
              "    }\n",
              "\n",
              "    .dataframe tbody tr th {\n",
              "        vertical-align: top;\n",
              "    }\n",
              "\n",
              "    .dataframe thead th {\n",
              "        text-align: right;\n",
              "    }\n",
              "</style>\n",
              "<table border=\"1\" class=\"dataframe\">\n",
              "  <thead>\n",
              "    <tr style=\"text-align: right;\">\n",
              "      <th></th>\n",
              "      <th>x1</th>\n",
              "      <th>x2</th>\n",
              "    </tr>\n",
              "  </thead>\n",
              "  <tbody>\n",
              "    <tr>\n",
              "      <th>0</th>\n",
              "      <td>0</td>\n",
              "      <td>0</td>\n",
              "    </tr>\n",
              "    <tr>\n",
              "      <th>1</th>\n",
              "      <td>0</td>\n",
              "      <td>1</td>\n",
              "    </tr>\n",
              "    <tr>\n",
              "      <th>2</th>\n",
              "      <td>1</td>\n",
              "      <td>0</td>\n",
              "    </tr>\n",
              "    <tr>\n",
              "      <th>3</th>\n",
              "      <td>1</td>\n",
              "      <td>1</td>\n",
              "    </tr>\n",
              "  </tbody>\n",
              "</table>\n",
              "</div>"
            ],
            "text/plain": [
              "   x1  x2\n",
              "0   0   0\n",
              "1   0   1\n",
              "2   1   0\n",
              "3   1   1"
            ]
          },
          "metadata": {
            "tags": []
          },
          "execution_count": 3
        }
      ]
    },
    {
      "cell_type": "code",
      "metadata": {
        "id": "GnfeI8rJ8vCu",
        "colab_type": "code",
        "outputId": "a5226abd-8779-42eb-f915-0cfee9cc2d60",
        "colab": {
          "base_uri": "https://localhost:8080/",
          "height": 108
        }
      },
      "source": [
        "#Creating a data frame only with the output values\n",
        "Y = data[\"y\"]\n",
        "Y"
      ],
      "execution_count": 0,
      "outputs": [
        {
          "output_type": "execute_result",
          "data": {
            "text/plain": [
              "0    1\n",
              "1    1\n",
              "2    1\n",
              "3    0\n",
              "Name: y, dtype: int64"
            ]
          },
          "metadata": {
            "tags": []
          },
          "execution_count": 4
        }
      ]
    },
    {
      "cell_type": "code",
      "metadata": {
        "id": "CvmyX80WDWFA",
        "colab_type": "code",
        "outputId": "00b0e0c9-584f-4772-d8d0-801ee6ea5753",
        "colab": {
          "base_uri": "https://localhost:8080/",
          "height": 168
        }
      },
      "source": [
        "#In our code, we want to integrate the bias terms into the matrix of input value. \n",
        "#This way, our weighted sum becomes the following: WX instead of WX + b, where b #is a separate, bias vector\n",
        "\n",
        "#Inserting a new column into the pandas dataframe where every elemnt is 1, in the first position\n",
        "X.insert(0,\"bias\", np.ones(X.shape[0]), True)\n",
        "X"
      ],
      "execution_count": 0,
      "outputs": [
        {
          "output_type": "execute_result",
          "data": {
            "text/html": [
              "<div>\n",
              "<style scoped>\n",
              "    .dataframe tbody tr th:only-of-type {\n",
              "        vertical-align: middle;\n",
              "    }\n",
              "\n",
              "    .dataframe tbody tr th {\n",
              "        vertical-align: top;\n",
              "    }\n",
              "\n",
              "    .dataframe thead th {\n",
              "        text-align: right;\n",
              "    }\n",
              "</style>\n",
              "<table border=\"1\" class=\"dataframe\">\n",
              "  <thead>\n",
              "    <tr style=\"text-align: right;\">\n",
              "      <th></th>\n",
              "      <th>bias</th>\n",
              "      <th>x1</th>\n",
              "      <th>x2</th>\n",
              "    </tr>\n",
              "  </thead>\n",
              "  <tbody>\n",
              "    <tr>\n",
              "      <th>0</th>\n",
              "      <td>1.0</td>\n",
              "      <td>0</td>\n",
              "      <td>0</td>\n",
              "    </tr>\n",
              "    <tr>\n",
              "      <th>1</th>\n",
              "      <td>1.0</td>\n",
              "      <td>0</td>\n",
              "      <td>1</td>\n",
              "    </tr>\n",
              "    <tr>\n",
              "      <th>2</th>\n",
              "      <td>1.0</td>\n",
              "      <td>1</td>\n",
              "      <td>0</td>\n",
              "    </tr>\n",
              "    <tr>\n",
              "      <th>3</th>\n",
              "      <td>1.0</td>\n",
              "      <td>1</td>\n",
              "      <td>1</td>\n",
              "    </tr>\n",
              "  </tbody>\n",
              "</table>\n",
              "</div>"
            ],
            "text/plain": [
              "   bias  x1  x2\n",
              "0   1.0   0   0\n",
              "1   1.0   0   1\n",
              "2   1.0   1   0\n",
              "3   1.0   1   1"
            ]
          },
          "metadata": {
            "tags": []
          },
          "execution_count": 5
        }
      ]
    },
    {
      "cell_type": "markdown",
      "metadata": {
        "id": "VfZLxRaDDWoZ",
        "colab_type": "text"
      },
      "source": [
        "## STEP 2: Write the feed forward function that predicts the outcome using the weights and inputs\n",
        "\n",
        "This function is used to predict the activated output at a layer, and is called for each instance of X (corresponds to each row in the X matrix). It thus takes in a row of the input features (= the vector of feature values for that instance) and the updated weights as its parameter."
      ]
    },
    {
      "cell_type": "markdown",
      "metadata": {
        "id": "uiScivihN_9t",
        "colab_type": "text"
      },
      "source": [
        ""
      ]
    },
    {
      "cell_type": "code",
      "metadata": {
        "id": "WGzSWlDxWifW",
        "colab_type": "code",
        "colab": {}
      },
      "source": [
        "\n",
        "def predict(instance ,weights ):\n",
        "  #Initializing a variable to hold the value of the weighted sum (of input features and the corresponding weights) \n",
        "  weighted_sum=0 \n",
        "\n",
        "  #calculating the weighted sum of the instance features and the corresponding weights as a dot product\n",
        "  weighted_sum=np.dot(instance,weights)\n",
        "\n",
        "#Another way of doing this (using loops instead of numpy)\n",
        "# for i in range(len(instance)):\n",
        "  #   weighted_sum += weights[i] * instance[i]\n",
        "\n",
        "  #Step activation function - maps non-negative inputs (function inputs, the weighted sum here) to 1 and negative inputs to 0. \n",
        "  #Using an if statement for the step activation function\n",
        "  if weighted_sum >= 0:\n",
        "    activation=1.0\n",
        "  else:\n",
        "    activation=0.0\n",
        "  return activation"
      ],
      "execution_count": 0,
      "outputs": []
    },
    {
      "cell_type": "markdown",
      "metadata": {
        "id": "U9r90cJeDlDR",
        "colab_type": "text"
      },
      "source": [
        "## STEP 3: Define the function that trains the weight using backpropogation using gradient descent. \n",
        "\n",
        "Here, we use stochastic gradient descent which means we we go through all the instances one by one and update the weights after each time an instance is passed in the forward direction. "
      ]
    },
    {
      "cell_type": "markdown",
      "metadata": {
        "id": "YdyxTUNCOT0z",
        "colab_type": "text"
      },
      "source": [
        "**Weight update:**\n",
        "\n",
        "updated weight = old weight - update in weight\n",
        "\n",
        "> where:\n",
        "\n",
        "> update in the weight = learning rate * (desired output - actual (or predicted) output) * input\n",
        "  \n",
        "Each of the weights (corresponding to each input feature) gets updated"
      ]
    },
    {
      "cell_type": "code",
      "metadata": {
        "id": "lqxRPYqri1LB",
        "colab_type": "code",
        "colab": {}
      },
      "source": [
        "#learning_rate and epochs are hyperparameters here, that is, we specify their values (we try different values to see which one helps our model train / converge the best)\n",
        "def train_weights(x,y, learning_rate, epochs):\n",
        "  #initializing a weight vector (array of 1 dimension here as there is only one neuron) whose length is equal to the number of input features\n",
        "  weights = np.ones(x.shape[1]) #The no. of input features in x is given by the number of columns x has. It can be obtained from the shape. Run x.shape and see what you get.\n",
        "  #We look at the error in predictions for all instances, and do that for each epoch\n",
        "  for epoch in range(epochs): #for every epoch\n",
        "    total_error = 0.0 #storing the total error for that epoch\n",
        "    for index in range(len(x)): #for each instance of x (instance being represented by a row) \n",
        "      prediction = predict(x.iloc[index], weights)\n",
        "      error = y.iloc[index]-prediction \n",
        "      total_error += error **2 #sum of squared error\n",
        "      for j in range(x.shape[1]): \n",
        "        #Updating each of the weights (that is, the weight value corresponding to each of the input features) \n",
        "        weights[j] = weights[j] + learning_rate *error * x.iloc[index,j]\n",
        "    mean_sq_error = total_error/len(x)\n",
        "    #printing the epoch number, the learning rate and mean of the total error for that epoch\n",
        "    print(f'Epochs = {epoch}, learning rate = {learning_rate}, mean squared error(MSE) = {mean_sq_error}')\n",
        "  return weights #these are the final, trained weights after running through all the epochs - used in prediction"
      ],
      "execution_count": 0,
      "outputs": []
    },
    {
      "cell_type": "markdown",
      "metadata": {
        "id": "Cq6vIyE_EDy4",
        "colab_type": "text"
      },
      "source": [
        "## STEP 4: Define the function that serves as the model \n",
        "\n",
        "This function will call the training and predict functions, and computes the final predicted outcome after running through all the epochs. "
      ]
    },
    {
      "cell_type": "code",
      "metadata": {
        "id": "QfJHFMbcneGZ",
        "colab_type": "code",
        "colab": {}
      },
      "source": [
        "#defining the function that calls the training function, and computes the final outcome\n",
        "def perceptron(X, Y, learning_rate, epochs):\n",
        "  y_preds = list() #initializing a variable to hold the predicted values (one prediction for each instance) as a list\n",
        "  weights = train_weights(X, Y, learning_rate, epochs)\n",
        "  for i in range(len(X)):\n",
        "    #for each instance/ row of X, getting the prediction and appending it to the list\n",
        "    prediction = predict(X.iloc[i],weights)\n",
        "    y_preds.append(prediction)\n",
        "  return y_preds"
      ],
      "execution_count": 0,
      "outputs": []
    },
    {
      "cell_type": "markdown",
      "metadata": {
        "id": "xdxwqjbnEuoC",
        "colab_type": "text"
      },
      "source": [
        "## STEP 5: Define a function that evaluates the accuracy score\n",
        "\n",
        "Now that we have predicted the outcome, we need to compute the accuracy of our model. We use a simple accuracy metric in this code, as described below. "
      ]
    },
    {
      "cell_type": "code",
      "metadata": {
        "id": "sVFa-voKvOQn",
        "colab_type": "code",
        "colab": {}
      },
      "source": [
        "def accuracy_score(y_desired, y_predicted):\n",
        "  correct = 0\n",
        "  \n",
        "  #computing accuracy as the percent correctness of the predictions among the instances\n",
        "  #Defined here as the %percent of correct predictions out of all the instances the model predicted for\n",
        "  for i in range(len(y_desired)):\n",
        "    if y_desired[i] == predicted[i]:\n",
        "      correct += 1\n",
        "  accuracy_score=correct*100.0/len(y_desired)\n",
        "  return accuracy_score"
      ],
      "execution_count": 0,
      "outputs": []
    },
    {
      "cell_type": "markdown",
      "metadata": {
        "id": "5p7k612MpTDI",
        "colab_type": "text"
      },
      "source": [
        "### STEP 6: Tune the hyperparameters, run the model, obtain the accuracy score. Repeat for different values of the hyperparameters and see what values give you the best performing model\n",
        "\n",
        "\n"
      ]
    },
    {
      "cell_type": "code",
      "metadata": {
        "id": "eBmoEK8T0huB",
        "colab_type": "code",
        "outputId": "cdede80f-8a98-4a06-c268-589b581284ea",
        "colab": {
          "base_uri": "https://localhost:8080/",
          "height": 617
        }
      },
      "source": [
        "#Iitializing the hyperparameters\n",
        "learning_rate = 0.5\n",
        "epochs = 30\n",
        "\n",
        "#calling the model, predicting the outcome and measuring the accuracy of the prediction\n",
        "predicted = perceptron(X, Y, learning_rate, epochs)\n",
        "accuracy = accuracy_score(Y, predicted)\n",
        "print(\"\\n\")\n",
        "\n",
        "print(f\"The accuracy is {accuracy}%.\")"
      ],
      "execution_count": 0,
      "outputs": [
        {
          "output_type": "stream",
          "text": [
            "Epochs = 0, learning rate = 0.5, mean squared error(MSE) = 0.25\n",
            "Epochs = 1, learning rate = 0.5, mean squared error(MSE) = 0.25\n",
            "Epochs = 2, learning rate = 0.5, mean squared error(MSE) = 0.25\n",
            "Epochs = 3, learning rate = 0.5, mean squared error(MSE) = 0.75\n",
            "Epochs = 4, learning rate = 0.5, mean squared error(MSE) = 0.75\n",
            "Epochs = 5, learning rate = 0.5, mean squared error(MSE) = 0.5\n",
            "Epochs = 6, learning rate = 0.5, mean squared error(MSE) = 0.25\n",
            "Epochs = 7, learning rate = 0.5, mean squared error(MSE) = 0.0\n",
            "Epochs = 8, learning rate = 0.5, mean squared error(MSE) = 0.0\n",
            "Epochs = 9, learning rate = 0.5, mean squared error(MSE) = 0.0\n",
            "Epochs = 10, learning rate = 0.5, mean squared error(MSE) = 0.0\n",
            "Epochs = 11, learning rate = 0.5, mean squared error(MSE) = 0.0\n",
            "Epochs = 12, learning rate = 0.5, mean squared error(MSE) = 0.0\n",
            "Epochs = 13, learning rate = 0.5, mean squared error(MSE) = 0.0\n",
            "Epochs = 14, learning rate = 0.5, mean squared error(MSE) = 0.0\n",
            "Epochs = 15, learning rate = 0.5, mean squared error(MSE) = 0.0\n",
            "Epochs = 16, learning rate = 0.5, mean squared error(MSE) = 0.0\n",
            "Epochs = 17, learning rate = 0.5, mean squared error(MSE) = 0.0\n",
            "Epochs = 18, learning rate = 0.5, mean squared error(MSE) = 0.0\n",
            "Epochs = 19, learning rate = 0.5, mean squared error(MSE) = 0.0\n",
            "Epochs = 20, learning rate = 0.5, mean squared error(MSE) = 0.0\n",
            "Epochs = 21, learning rate = 0.5, mean squared error(MSE) = 0.0\n",
            "Epochs = 22, learning rate = 0.5, mean squared error(MSE) = 0.0\n",
            "Epochs = 23, learning rate = 0.5, mean squared error(MSE) = 0.0\n",
            "Epochs = 24, learning rate = 0.5, mean squared error(MSE) = 0.0\n",
            "Epochs = 25, learning rate = 0.5, mean squared error(MSE) = 0.0\n",
            "Epochs = 26, learning rate = 0.5, mean squared error(MSE) = 0.0\n",
            "Epochs = 27, learning rate = 0.5, mean squared error(MSE) = 0.0\n",
            "Epochs = 28, learning rate = 0.5, mean squared error(MSE) = 0.0\n",
            "Epochs = 29, learning rate = 0.5, mean squared error(MSE) = 0.0\n",
            "\n",
            "\n",
            "The accuracy is 100.0%.\n"
          ],
          "name": "stdout"
        }
      ]
    },
    {
      "cell_type": "code",
      "metadata": {
        "id": "USqNRFdDBGsN",
        "colab_type": "code",
        "outputId": "c29c7c66-5d81-4f55-9f97-fa8a05f4859a",
        "colab": {
          "base_uri": "https://localhost:8080/",
          "height": 645
        }
      },
      "source": [
        "import matplotlib.pyplot as plt\n",
        "\n",
        "plt.figure(figsize=(10,10))\n",
        "plt.xlim(-1,3)\n",
        "plt.xticks(np.arange(0,3,1))\n",
        "plt.yticks(np.arange(0,3,1))\n",
        "plt.ylim(-1,3)\n",
        "plt.grid()\n",
        "plt.scatter(X[data[\"y\"]==1][\"x1\"], X[data[\"y\"]==1][\"x2\"], s=120, c=\"r\", marker=\"^\")\n",
        "plt.scatter(X[data[\"y\"]==0][\"x1\"], X[data[\"y\"]==0][\"x2\"], s=120, c=\"b\", marker=\"o\")\n",
        "\n",
        "#plt.plot(data[data[\"y\"]==1][\"x1\"],data[data[\"y\"]==1][\"x2\"],'o',c=\"b\")\n",
        "#plt.plot(data[data[\"y\"]==0][\"x1\"],data[data[\"y\"]==0][\"x2\"],'^',c=\"r\")\n",
        "plt.title('NAND Gate')\n",
        "plt.xlabel('x1', color='#1C2833',fontsize=16)\n",
        "plt.ylabel('x2', color='#1C2833',fontsize=16)\n",
        "plt.legend(loc='upper left')\n",
        "for i_x, i_y in zip(data[\"x1\"], data[\"x2\"]):\n",
        "    plt.text(i_x+0.1, i_y+0.1, '({}, {})'.format(i_x, i_y),fontsize=22)\n",
        "plt.show()\n"
      ],
      "execution_count": 0,
      "outputs": [
        {
          "output_type": "stream",
          "text": [
            "No handles with labels found to put in legend.\n"
          ],
          "name": "stderr"
        },
        {
          "output_type": "display_data",
          "data": {
            "image/png": "[encoded data removed]",
            "text/plain": [
              "<Figure size 720x720 with 1 Axes>"
            ]
          },
          "metadata": {
            "tags": []
          }
        }
      ]
    },
    {
      "cell_type": "code",
      "metadata": {
        "id": "BgqKWb4W8xRc",
        "colab_type": "code",
        "colab": {}
      },
      "source": [
        "# plt.subplot(321)\n",
        "# plt.scatter(X[data[\"y\"]==1][\"x1\"], X[data[\"y\"]==1][\"x2\"], s=80, c=\"r\", marker=\">\")\n",
        "# for i in range(len(data)):\n",
        "#   x1=data.iloc[i,0]\n",
        "#   x2=data.iloc[i:1]\n",
        "#   plt.text(x1,x2,f\"{x1},{x2}\")\n",
        "#   print(\"check\")"
      ],
      "execution_count": 0,
      "outputs": []
    },
    {
      "cell_type": "code",
      "metadata": {
        "id": "6Q55PwtHOkZ8",
        "colab_type": "code",
        "colab": {}
      },
      "source": [
        ""
      ],
      "execution_count": 0,
      "outputs": []
    }
  ]
}