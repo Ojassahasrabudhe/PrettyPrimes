{
 "cells": [
  {
   "cell_type": "markdown",
   "metadata": {
    "colab_type": "text",
    "id": "p9iaISB0KlbO"
   },
   "source": [
    "\n",
    "#**What is a single layer perceptron?**\n",
    "\n",
    " \n",
    "\n",
    "\n",
    "\n",
    "\n",
    "\n",
    "\n",
    "\n",
    "\n",
    "\n",
    "\n",
    "\n",
    "\n"
   ]
  },
  {
   "cell_type": "markdown",
   "metadata": {
    "colab_type": "text",
    "id": "Q0eIaqT05tYW"
   },
   "source": [
    "# **Solving the classification of Iris Dataset : Single Layer Perceptron from Scratch**\n",
    "\n",
    "1.   List item\n",
    "2.   List item\n",
    "**bold text**\n",
    "\n",
    "\n",
    "Task: To predict the class of the iris flower according to the sepal length, sepal width, petal length and petal width\n",
    "\n",
    "**What is Iris dataset?**\n",
    "\n",
    "It is a dataset about classifying three different classes (Setosa, Versicolour, Virginica) of iris flower on the basis of four features such as sepal length, sepal width, petal length and petal width.\n",
    "\n"
   ]
  },
  {
   "cell_type": "markdown",
   "metadata": {
    "colab_type": "text",
    "id": "yde9-2RIGXug"
   },
   "source": [
    "\n",
    "In our code, we have 3 classes numerically defined as Setosa : 1, Versicolour : 2, Virginica : 3. We have four 2-featured instances as our input. We have 50 rows of each class, i.e. 150 data rows. We need to predict the class of the iris flower by taking a single layer perceptron with four features.\n",
    "\n",
    "**What does coding a neural network from scratch imply?**\n",
    "\n",
    "We do not use inbuilt libraries for machine/ deep learning such as those in scikit-learn, keras or tensor flow.  We use only numpy, pandas, and write functions to make the model, train, fit, predict and evaluate it. \n",
    "\n",
    "Let's get started!"
   ]
  },
  {
   "cell_type": "markdown",
   "metadata": {
    "colab_type": "text",
    "id": "avbYReabDIFO"
   },
   "source": [
    "## STEP 1. Import the necessary libraries/ functions and get the data ready"
   ]
  },
  {
   "cell_type": "code",
   "execution_count": 1,
   "metadata": {
    "colab": {},
    "colab_type": "code",
    "id": "WOF3RGEoWI9b"
   },
   "outputs": [],
   "source": [
    "import numpy as np\n",
    "import pandas as pd\n",
    "from sklearn.datasets import load_iris"
   ]
  },
  {
   "cell_type": "code",
   "execution_count": 2,
   "metadata": {
    "colab": {},
    "colab_type": "code",
    "id": "1qext1qt8Nrf"
   },
   "outputs": [],
   "source": [
    "iris = load_iris()\n",
    "X = iris.data\n",
    "y = iris.target"
   ]
  },
  {
   "cell_type": "code",
   "execution_count": 3,
   "metadata": {
    "colab": {
     "base_uri": "https://localhost:8080/",
     "height": 1000
    },
    "colab_type": "code",
    "id": "tPzVlj1v2i8d",
    "outputId": "44cd6bf9-6c2d-4b7d-f182-c2754dafc14b",
    "scrolled": true
   },
   "outputs": [
    {
     "name": "stdout",
     "output_type": "stream",
     "text": [
      ".. _iris_dataset:\n",
      "\n",
      "Iris plants dataset\n",
      "--------------------\n",
      "\n",
      "**Data Set Characteristics:**\n",
      "\n",
      "    :Number of Instances: 150 (50 in each of three classes)\n",
      "    :Number of Attributes: 4 numeric, predictive attributes and the class\n",
      "    :Attribute Information:\n",
      "        - sepal length in cm\n",
      "        - sepal width in cm\n",
      "        - petal length in cm\n",
      "        - petal width in cm\n",
      "        - class:\n",
      "                - Iris-Setosa\n",
      "                - Iris-Versicolour\n",
      "                - Iris-Virginica\n",
      "                \n",
      "    :Summary Statistics:\n",
      "\n",
      "    ============== ==== ==== ======= ===== ====================\n",
      "                    Min  Max   Mean    SD   Class Correlation\n",
      "    ============== ==== ==== ======= ===== ====================\n",
      "    sepal length:   4.3  7.9   5.84   0.83    0.7826\n",
      "    sepal width:    2.0  4.4   3.05   0.43   -0.4194\n",
      "    petal length:   1.0  6.9   3.76   1.76    0.9490  (high!)\n",
      "    petal width:    0.1  2.5   1.20   0.76    0.9565  (high!)\n",
      "    ============== ==== ==== ======= ===== ====================\n",
      "\n",
      "    :Missing Attribute Values: None\n",
      "    :Class Distribution: 33.3% for each of 3 classes.\n",
      "    :Creator: R.A. Fisher\n",
      "    :Donor: Michael Marshall (MARSHALL%PLU@io.arc.nasa.gov)\n",
      "    :Date: July, 1988\n",
      "\n",
      "The famous Iris database, first used by Sir R.A. Fisher. The dataset is taken\n",
      "from Fisher's paper. Note that it's the same as in R, but not as in the UCI\n",
      "Machine Learning Repository, which has two wrong data points.\n",
      "\n",
      "This is perhaps the best known database to be found in the\n",
      "pattern recognition literature.  Fisher's paper is a classic in the field and\n",
      "is referenced frequently to this day.  (See Duda & Hart, for example.)  The\n",
      "data set contains 3 classes of 50 instances each, where each class refers to a\n",
      "type of iris plant.  One class is linearly separable from the other 2; the\n",
      "latter are NOT linearly separable from each other.\n",
      "\n",
      ".. topic:: References\n",
      "\n",
      "   - Fisher, R.A. \"The use of multiple measurements in taxonomic problems\"\n",
      "     Annual Eugenics, 7, Part II, 179-188 (1936); also in \"Contributions to\n",
      "     Mathematical Statistics\" (John Wiley, NY, 1950).\n",
      "   - Duda, R.O., & Hart, P.E. (1973) Pattern Classification and Scene Analysis.\n",
      "     (Q327.D83) John Wiley & Sons.  ISBN 0-471-22361-1.  See page 218.\n",
      "   - Dasarathy, B.V. (1980) \"Nosing Around the Neighborhood: A New System\n",
      "     Structure and Classification Rule for Recognition in Partially Exposed\n",
      "     Environments\".  IEEE Transactions on Pattern Analysis and Machine\n",
      "     Intelligence, Vol. PAMI-2, No. 1, 67-71.\n",
      "   - Gates, G.W. (1972) \"The Reduced Nearest Neighbor Rule\".  IEEE Transactions\n",
      "     on Information Theory, May 1972, 431-433.\n",
      "   - See also: 1988 MLC Proceedings, 54-64.  Cheeseman et al\"s AUTOCLASS II\n",
      "     conceptual clustering system finds 3 classes in the data.\n",
      "   - Many, many more ...\n"
     ]
    }
   ],
   "source": [
    "print(iris.DESCR)"
   ]
  },
  {
   "cell_type": "code",
   "execution_count": 4,
   "metadata": {
    "colab": {},
    "colab_type": "code",
    "id": "sg2lferiA-Vw"
   },
   "outputs": [],
   "source": [
    "num_classes=len(np.unique(y))\n",
    "a=np.zeros((y.shape[0], num_classes))"
   ]
  },
  {
   "cell_type": "code",
   "execution_count": 5,
   "metadata": {
    "colab": {},
    "colab_type": "code",
    "id": "QcPGHkDvDvpM"
   },
   "outputs": [],
   "source": [
    "for i in range(y.shape[0]):\n",
    "  if y[i] == 0:\n",
    "    a[i][0] = 1\n",
    "  elif y[i] == 1:\n",
    "    a[i][1] = 1\n",
    "  else:\n",
    "    a[i][2] = 1\n",
    "\n",
    "#one hot encoding of the output"
   ]
  },
  {
   "cell_type": "code",
   "execution_count": 6,
   "metadata": {
    "colab": {},
    "colab_type": "code",
    "id": "7cG2REGu3K_K"
   },
   "outputs": [],
   "source": [
    "X= pd.DataFrame(X,columns=[\"sepal_length\", \"sepal_width\", \"petal_length\", \"petal_width\"])\n",
    "y = pd.DataFrame(a, columns = [\"y0\",\"y1\",\"y2\"],dtype=\"int64\")"
   ]
  },
  {
   "cell_type": "code",
   "execution_count": 7,
   "metadata": {
    "colab": {
     "base_uri": "https://localhost:8080/",
     "height": 198
    },
    "colab_type": "code",
    "id": "rJJUsl1x3mLC",
    "outputId": "2fa5aa52-b043-42c7-a6c5-35f2850c70c3"
   },
   "outputs": [
    {
     "data": {
      "text/html": [
       "<div>\n",
       "<style scoped>\n",
       "    .dataframe tbody tr th:only-of-type {\n",
       "        vertical-align: middle;\n",
       "    }\n",
       "\n",
       "    .dataframe tbody tr th {\n",
       "        vertical-align: top;\n",
       "    }\n",
       "\n",
       "    .dataframe thead th {\n",
       "        text-align: right;\n",
       "    }\n",
       "</style>\n",
       "<table border=\"1\" class=\"dataframe\">\n",
       "  <thead>\n",
       "    <tr style=\"text-align: right;\">\n",
       "      <th></th>\n",
       "      <th>y0</th>\n",
       "      <th>y1</th>\n",
       "      <th>y2</th>\n",
       "    </tr>\n",
       "  </thead>\n",
       "  <tbody>\n",
       "    <tr>\n",
       "      <td>0</td>\n",
       "      <td>1</td>\n",
       "      <td>0</td>\n",
       "      <td>0</td>\n",
       "    </tr>\n",
       "    <tr>\n",
       "      <td>1</td>\n",
       "      <td>1</td>\n",
       "      <td>0</td>\n",
       "      <td>0</td>\n",
       "    </tr>\n",
       "    <tr>\n",
       "      <td>2</td>\n",
       "      <td>1</td>\n",
       "      <td>0</td>\n",
       "      <td>0</td>\n",
       "    </tr>\n",
       "    <tr>\n",
       "      <td>3</td>\n",
       "      <td>1</td>\n",
       "      <td>0</td>\n",
       "      <td>0</td>\n",
       "    </tr>\n",
       "    <tr>\n",
       "      <td>4</td>\n",
       "      <td>1</td>\n",
       "      <td>0</td>\n",
       "      <td>0</td>\n",
       "    </tr>\n",
       "  </tbody>\n",
       "</table>\n",
       "</div>"
      ],
      "text/plain": [
       "   y0  y1  y2\n",
       "0   1   0   0\n",
       "1   1   0   0\n",
       "2   1   0   0\n",
       "3   1   0   0\n",
       "4   1   0   0"
      ]
     },
     "execution_count": 7,
     "metadata": {},
     "output_type": "execute_result"
    }
   ],
   "source": [
    "y.head()"
   ]
  },
  {
   "cell_type": "code",
   "execution_count": 8,
   "metadata": {
    "colab": {
     "base_uri": "https://localhost:8080/",
     "height": 407
    },
    "colab_type": "code",
    "id": "CvmyX80WDWFA",
    "outputId": "9f875767-8495-4a4f-9a87-8b96b66170cb"
   },
   "outputs": [
    {
     "data": {
      "text/html": [
       "<div>\n",
       "<style scoped>\n",
       "    .dataframe tbody tr th:only-of-type {\n",
       "        vertical-align: middle;\n",
       "    }\n",
       "\n",
       "    .dataframe tbody tr th {\n",
       "        vertical-align: top;\n",
       "    }\n",
       "\n",
       "    .dataframe thead th {\n",
       "        text-align: right;\n",
       "    }\n",
       "</style>\n",
       "<table border=\"1\" class=\"dataframe\">\n",
       "  <thead>\n",
       "    <tr style=\"text-align: right;\">\n",
       "      <th></th>\n",
       "      <th>bias</th>\n",
       "      <th>sepal_length</th>\n",
       "      <th>sepal_width</th>\n",
       "      <th>petal_length</th>\n",
       "      <th>petal_width</th>\n",
       "    </tr>\n",
       "  </thead>\n",
       "  <tbody>\n",
       "    <tr>\n",
       "      <td>0</td>\n",
       "      <td>1.0</td>\n",
       "      <td>5.1</td>\n",
       "      <td>3.5</td>\n",
       "      <td>1.4</td>\n",
       "      <td>0.2</td>\n",
       "    </tr>\n",
       "    <tr>\n",
       "      <td>1</td>\n",
       "      <td>1.0</td>\n",
       "      <td>4.9</td>\n",
       "      <td>3.0</td>\n",
       "      <td>1.4</td>\n",
       "      <td>0.2</td>\n",
       "    </tr>\n",
       "    <tr>\n",
       "      <td>2</td>\n",
       "      <td>1.0</td>\n",
       "      <td>4.7</td>\n",
       "      <td>3.2</td>\n",
       "      <td>1.3</td>\n",
       "      <td>0.2</td>\n",
       "    </tr>\n",
       "    <tr>\n",
       "      <td>3</td>\n",
       "      <td>1.0</td>\n",
       "      <td>4.6</td>\n",
       "      <td>3.1</td>\n",
       "      <td>1.5</td>\n",
       "      <td>0.2</td>\n",
       "    </tr>\n",
       "    <tr>\n",
       "      <td>4</td>\n",
       "      <td>1.0</td>\n",
       "      <td>5.0</td>\n",
       "      <td>3.6</td>\n",
       "      <td>1.4</td>\n",
       "      <td>0.2</td>\n",
       "    </tr>\n",
       "    <tr>\n",
       "      <td>...</td>\n",
       "      <td>...</td>\n",
       "      <td>...</td>\n",
       "      <td>...</td>\n",
       "      <td>...</td>\n",
       "      <td>...</td>\n",
       "    </tr>\n",
       "    <tr>\n",
       "      <td>145</td>\n",
       "      <td>1.0</td>\n",
       "      <td>6.7</td>\n",
       "      <td>3.0</td>\n",
       "      <td>5.2</td>\n",
       "      <td>2.3</td>\n",
       "    </tr>\n",
       "    <tr>\n",
       "      <td>146</td>\n",
       "      <td>1.0</td>\n",
       "      <td>6.3</td>\n",
       "      <td>2.5</td>\n",
       "      <td>5.0</td>\n",
       "      <td>1.9</td>\n",
       "    </tr>\n",
       "    <tr>\n",
       "      <td>147</td>\n",
       "      <td>1.0</td>\n",
       "      <td>6.5</td>\n",
       "      <td>3.0</td>\n",
       "      <td>5.2</td>\n",
       "      <td>2.0</td>\n",
       "    </tr>\n",
       "    <tr>\n",
       "      <td>148</td>\n",
       "      <td>1.0</td>\n",
       "      <td>6.2</td>\n",
       "      <td>3.4</td>\n",
       "      <td>5.4</td>\n",
       "      <td>2.3</td>\n",
       "    </tr>\n",
       "    <tr>\n",
       "      <td>149</td>\n",
       "      <td>1.0</td>\n",
       "      <td>5.9</td>\n",
       "      <td>3.0</td>\n",
       "      <td>5.1</td>\n",
       "      <td>1.8</td>\n",
       "    </tr>\n",
       "  </tbody>\n",
       "</table>\n",
       "<p>150 rows × 5 columns</p>\n",
       "</div>"
      ],
      "text/plain": [
       "     bias  sepal_length  sepal_width  petal_length  petal_width\n",
       "0     1.0           5.1          3.5           1.4          0.2\n",
       "1     1.0           4.9          3.0           1.4          0.2\n",
       "2     1.0           4.7          3.2           1.3          0.2\n",
       "3     1.0           4.6          3.1           1.5          0.2\n",
       "4     1.0           5.0          3.6           1.4          0.2\n",
       "..    ...           ...          ...           ...          ...\n",
       "145   1.0           6.7          3.0           5.2          2.3\n",
       "146   1.0           6.3          2.5           5.0          1.9\n",
       "147   1.0           6.5          3.0           5.2          2.0\n",
       "148   1.0           6.2          3.4           5.4          2.3\n",
       "149   1.0           5.9          3.0           5.1          1.8\n",
       "\n",
       "[150 rows x 5 columns]"
      ]
     },
     "execution_count": 8,
     "metadata": {},
     "output_type": "execute_result"
    }
   ],
   "source": [
    "#In our code, we want to integrate the bias terms into the matrix of input value. \n",
    "#This way, our weighted sum becomes the following: WX instead of WX + b, where b #is a separate, bias vector\n",
    "\n",
    "#Inserting a new column into the pandas dataframe where every elemnt is 1, in the first position\n",
    "X.insert(0,\"bias\", np.ones(X.shape[0]), True)\n",
    "X"
   ]
  },
  {
   "cell_type": "markdown",
   "metadata": {
    "colab_type": "text",
    "id": "VfZLxRaDDWoZ"
   },
   "source": [
    "## STEP 2: Write the feed forward function that predicts the outcome using the weights and inputs\n",
    "\n",
    "This function is used to predict the activated output at a layer, and is called for each instance of X (corresponds to each row in the X matrix). It thus takes in a row of the input features (= the vector of feature values for that instance) and the updated weights as its parameter."
   ]
  },
  {
   "cell_type": "markdown",
   "metadata": {
    "colab_type": "text",
    "id": "uiScivihN_9t"
   },
   "source": []
  },
  {
   "cell_type": "code",
   "execution_count": 9,
   "metadata": {
    "colab": {},
    "colab_type": "code",
    "id": "J-fyxA-a-cQI"
   },
   "outputs": [],
   "source": [
    "def softmax(x): \n",
    "\n",
    "    \"\"\"Compute softmax values for each sets of scores in x.\"\"\" \n",
    "\n",
    "    e_x = np.exp(x - np.max(x)) \n",
    "\n",
    "    return e_x / e_x.sum(axis=0) \n",
    "\n",
    "  #the softmax gives the output in the form of probability"
   ]
  },
  {
   "cell_type": "code",
   "execution_count": 10,
   "metadata": {
    "colab": {},
    "colab_type": "code",
    "id": "PGyPLkST9V9c"
   },
   "outputs": [],
   "source": [
    "def predict(instance ,weights ):\n",
    "  #Initializing a variable to hold the value of the weighted sum (of input features and the corresponding weights) \n",
    "  weighted_sum=np.zeros((1,3)) \n",
    "  \n",
    "  ##print(\"instance in predict(p1,p2):\",instance)\n",
    "  ##print(\"weights in predict(p1,p2):\",weights)\n",
    "  \n",
    "  #calculating the weighted sum of the instance features and the corresponding weights as a dot product\n",
    "  weighted_sum=np.dot(instance,weights)\n",
    "  \n",
    "  ##print(\"weighted_sum in predict(p1,p2):\",weighted_sum)\n",
    "  \n",
    "  #Step activation function - maps non-negative inputs (function inputs, the weighted sum here) to 1 and negative inputs to 0. \n",
    "  #Using an if statement for the step activation function\n",
    "  a = softmax(weighted_sum)\n",
    "  \n",
    "  ##print (\"softmax of weighted sum =\",a)\n",
    "  return a"
   ]
  },
  {
   "cell_type": "markdown",
   "metadata": {
    "colab_type": "text",
    "id": "U9r90cJeDlDR"
   },
   "source": [
    "## STEP 3: Define the function that trains the weight using backpropogation using gradient descent. \n",
    "\n",
    "Here, we use stochastic gradient descent which means we we go through all the instances one by one and update the weights after each time an instance is passed in the forward direction. "
   ]
  },
  {
   "cell_type": "markdown",
   "metadata": {
    "colab_type": "text",
    "id": "YdyxTUNCOT0z"
   },
   "source": [
    "**Weight update:**\n",
    "\n",
    "updated weight = old weight - update in weight\n",
    "\n",
    "> where:\n",
    "\n",
    "> update in the weight = learning rate * (desired output - actual (or predicted) output) * input\n",
    "  \n",
    "Each of the weights (corresponding to each input feature) gets updated"
   ]
  },
  {
   "cell_type": "code",
   "execution_count": 11,
   "metadata": {
    "colab": {},
    "colab_type": "code",
    "id": "xzVIgQscQkqo"
   },
   "outputs": [],
   "source": [
    "from math import log\n",
    "def categorical_cross_entropy(target, predicted):\n",
    "  sum_score = 0.0\n",
    "  \n",
    "  ##print(\"predicted in CCE=\",predicted)\n",
    "  ##print(predicted[0])\n",
    "  \n",
    "  for j in range(len(target)):\n",
    "    sum_score += target.iloc[j] * log(1e-15 + predicted[j])\n",
    "  return sum_score\n",
    "\n"
   ]
  },
  {
   "cell_type": "code",
   "execution_count": 12,
   "metadata": {
    "colab": {
     "base_uri": "https://localhost:8080/",
     "height": 35
    },
    "colab_type": "code",
    "id": "TdVDQIkysKlu",
    "outputId": "2b6110f6-ef9a-462e-b0d9-2a27526a2d37"
   },
   "outputs": [
    {
     "data": {
      "text/plain": [
       "3"
      ]
     },
     "execution_count": 12,
     "metadata": {},
     "output_type": "execute_result"
    }
   ],
   "source": [
    "#np.ones((X.shape[1], y.nunique())).shape\n",
    "y_total=y.to_numpy()\n",
    "len(np.unique(y_total,axis=0))"
   ]
  },
  {
   "cell_type": "code",
   "execution_count": 14,
   "metadata": {
    "colab": {},
    "colab_type": "code",
    "id": "lqxRPYqri1LB"
   },
   "outputs": [],
   "source": [
    "#learning_rate and epochs are hyperparameters here, that is, we specify their values (we try different values to see which one helps our model train / converge the best)\n",
    "def train_weights(x,y, learning_rate, epochs):\n",
    "  #initializing a weight vector (array of 2 dimensions here as there are now 4 neurons) whose length is equal to the number of output features i.e. three\n",
    "  weights = np.random.randn(x.shape[1], len(np.unique(y_total,axis=0))) #The no. of input features in x is given by the number of columns x has. It can be obtained from the shape. Run x.shape and see what you get.\n",
    "  \n",
    "  #We look at the error in predictions for all instances, and do that for each epoch\n",
    "  for epoch in range(epochs): #for every epoch\n",
    "    total_error = 0.0 #storing the total error for that epoch\n",
    "    for index in range(len(x)): #for each instance of x (instance being represented by a matrix) \n",
    "      prediction_softmax = predict(x.iloc[index], weights)\n",
    "      prediction=np.argmax(prediction_softmax,axis=0)\n",
    "      \n",
    "      ##print(\"shape of prediction_softmax and of prediction=\",prediction_softmax.shape,prediction.shape)\n",
    "      ##print(\"Prediction softmax in train_weights:\",prediction_softmax)\n",
    "      \n",
    "      error = y.iloc[index,:]-prediction_softmax\n",
    "      ##print(\"error shape=\",error.shape)\n",
    "      ##print(\"type(error)=\",type(error))\n",
    "      total_error += error **2 #sum of squared error\n",
    "      for j in range(x.shape[1]): \n",
    "        #Updating column-wise all the weights (that is, the weight value corresponding to each of the input features) \n",
    "        weights[j][0] = weights[j][0] + learning_rate *error[0]* x.iloc[index,j]\n",
    "        weights[j][1] = weights[j][1] + learning_rate *error[1] * x.iloc[index,j]\n",
    "        weights[j][2] = weights[j][2] + learning_rate *error[2]* x.iloc[index,j]\n",
    "    mean_error = total_error/len(x)\n",
    "    \n",
    "    ##print(weights)\n",
    "    \n",
    "    #printing the epoch number, the learning rate and mean of the total error for that epoch\n",
    "    print(f'Epochs = {epoch}, learning rate = {learning_rate}, mean categorical cross entropy error = {mean_error}')\n",
    "  return weights #these are the final, trained weights after running through all the epochs - used in prediction"
   ]
  },
  {
   "cell_type": "code",
   "execution_count": 15,
   "metadata": {
    "colab": {},
    "colab_type": "code",
    "id": "-1OHhycWfLaE"
   },
   "outputs": [],
   "source": [
    "# https://stats.stackexchange.com/questions/235528/backpropagation-with-softmax-cross-entrop\n",
    "# ∂E∂wij=yi(oj−tj)y"
   ]
  },
  {
   "cell_type": "markdown",
   "metadata": {
    "colab_type": "text",
    "id": "Cq6vIyE_EDy4"
   },
   "source": [
    "## STEP 4: Define the function that serves as the model \n",
    "\n",
    "This function will call the training and predict functions, and computes the final predicted outcome after running through all the epochs. "
   ]
  },
  {
   "cell_type": "code",
   "execution_count": 16,
   "metadata": {
    "colab": {},
    "colab_type": "code",
    "id": "2TcMOiRMKjL3"
   },
   "outputs": [],
   "source": [
    "from sklearn.model_selection import train_test_split"
   ]
  },
  {
   "cell_type": "code",
   "execution_count": 17,
   "metadata": {
    "colab": {},
    "colab_type": "code",
    "id": "gN8iRg0UKb8Y"
   },
   "outputs": [],
   "source": [
    "X_train,X_test,a_train,a_test = train_test_split(X, y, test_size=0.2, random_state=2275)\n",
    "#https://scikit-learn.org/stable/modules/generated/sklearn.model_selection.train_test_split.html"
   ]
  },
  {
   "cell_type": "code",
   "execution_count": 18,
   "metadata": {
    "colab": {},
    "colab_type": "code",
    "id": "q0GkX0XhNgtT"
   },
   "outputs": [],
   "source": [
    "y_test=np.argmax(np.array(a_test),axis=1)"
   ]
  },
  {
   "cell_type": "code",
   "execution_count": 19,
   "metadata": {
    "colab": {},
    "colab_type": "code",
    "id": "QfJHFMbcneGZ"
   },
   "outputs": [],
   "source": [
    "#defining the function that calls the training function, and computes the final outcome\n",
    "def perceptron(x_train, y_train,x_test, learning_rate, epochs):\n",
    "  y_preds = list() #initializing a variable to hold the predicted values (one prediction for each instance) as a list\n",
    "  weights = train_weights(x_train, y_train, learning_rate, epochs)\n",
    "  for i in range(len(x_test)):\n",
    "    #for each instance/ row of X, getting the prediction and appending it to the list\n",
    "    prediction_softmax = predict(x_test.iloc[i],weights)\n",
    "    prediction=np.argmax(prediction_softmax)\n",
    "    y_preds.append(prediction)\n",
    "  return y_preds"
   ]
  },
  {
   "cell_type": "markdown",
   "metadata": {
    "colab_type": "text",
    "id": "xdxwqjbnEuoC"
   },
   "source": [
    "## STEP 5: Define a function that evaluates the accuracy score\n",
    "\n",
    "Now that we have predicted the outcome, we need to compute the accuracy of our model. We use a simple accuracy metric in this code, as described below. "
   ]
  },
  {
   "cell_type": "code",
   "execution_count": 20,
   "metadata": {
    "colab": {},
    "colab_type": "code",
    "id": "sVFa-voKvOQn"
   },
   "outputs": [],
   "source": [
    "def accuracy_score(y_desired, y_predicted):\n",
    "  correct = 0\n",
    "  \n",
    "  #computing accuracy as the percent correctness of the predictions among the instances\n",
    "  #Defined here as the %percent of correct predictions out of all the instances the model predicted for\n",
    "  for i in range(len(y_desired)):\n",
    "    if y_desired[i] == y_predicted[i]:\n",
    "      correct += 1\n",
    "  accuracy_score=correct*100.0/len(y_desired)\n",
    "  return accuracy_score"
   ]
  },
  {
   "cell_type": "markdown",
   "metadata": {
    "colab_type": "text",
    "id": "5p7k612MpTDI"
   },
   "source": [
    "### STEP 6: Tune the hyperparameters, run the model, obtain the accuracy score. Repeat for different values of the hyperparameters and see what values give you the best performing model\n",
    "\n",
    "\n"
   ]
  },
  {
   "cell_type": "code",
   "execution_count": 21,
   "metadata": {
    "colab": {
     "base_uri": "https://localhost:8080/",
     "height": 1000
    },
    "colab_type": "code",
    "id": "eBmoEK8T0huB",
    "outputId": "9289dd40-c65c-487c-b249-f2ec91b080da",
    "scrolled": true
   },
   "outputs": [
    {
     "name": "stdout",
     "output_type": "stream",
     "text": [
      "Epochs = 0, learning rate = 0.01, mean categorical cross entropy error = y0    0.463449\n",
      "y1    0.555841\n",
      "y2    0.240837\n",
      "Name: 138, dtype: float64\n",
      "Epochs = 1, learning rate = 0.01, mean categorical cross entropy error = y0    0.255968\n",
      "y1    0.381380\n",
      "y2    0.137809\n",
      "Name: 138, dtype: float64\n",
      "Epochs = 2, learning rate = 0.01, mean categorical cross entropy error = y0    0.090766\n",
      "y1    0.241016\n",
      "y2    0.128324\n",
      "Name: 138, dtype: float64\n",
      "Epochs = 3, learning rate = 0.01, mean categorical cross entropy error = y0    0.036307\n",
      "y1    0.192912\n",
      "y2    0.131474\n",
      "Name: 138, dtype: float64\n",
      "Epochs = 4, learning rate = 0.01, mean categorical cross entropy error = y0    0.020560\n",
      "y1    0.174344\n",
      "y2    0.131571\n",
      "Name: 138, dtype: float64\n",
      "Epochs = 5, learning rate = 0.01, mean categorical cross entropy error = y0    0.014089\n",
      "y1    0.162441\n",
      "y2    0.129016\n",
      "Name: 138, dtype: float64\n",
      "Epochs = 6, learning rate = 0.01, mean categorical cross entropy error = y0    0.010727\n",
      "y1    0.152934\n",
      "y2    0.125195\n",
      "Name: 138, dtype: float64\n",
      "Epochs = 7, learning rate = 0.01, mean categorical cross entropy error = y0    0.008709\n",
      "y1    0.144728\n",
      "y2    0.120868\n",
      "Name: 138, dtype: float64\n",
      "Epochs = 8, learning rate = 0.01, mean categorical cross entropy error = y0    0.007376\n",
      "y1    0.137434\n",
      "y2    0.116425\n",
      "Name: 138, dtype: float64\n",
      "Epochs = 9, learning rate = 0.01, mean categorical cross entropy error = y0    0.006431\n",
      "y1    0.130874\n",
      "y2    0.112070\n",
      "Name: 138, dtype: float64\n",
      "Epochs = 10, learning rate = 0.01, mean categorical cross entropy error = y0    0.005726\n",
      "y1    0.124939\n",
      "y2    0.107908\n",
      "Name: 138, dtype: float64\n",
      "Epochs = 11, learning rate = 0.01, mean categorical cross entropy error = y0    0.005177\n",
      "y1    0.119554\n",
      "y2    0.103988\n",
      "Name: 138, dtype: float64\n",
      "Epochs = 12, learning rate = 0.01, mean categorical cross entropy error = y0    0.004737\n",
      "y1    0.114658\n",
      "y2    0.100329\n",
      "Name: 138, dtype: float64\n",
      "Epochs = 13, learning rate = 0.01, mean categorical cross entropy error = y0    0.004374\n",
      "y1    0.110197\n",
      "y2    0.096932\n",
      "Name: 138, dtype: float64\n",
      "Epochs = 14, learning rate = 0.01, mean categorical cross entropy error = y0    0.004068\n",
      "y1    0.106125\n",
      "y2    0.093788\n",
      "Name: 138, dtype: float64\n",
      "Epochs = 15, learning rate = 0.01, mean categorical cross entropy error = y0    0.003805\n",
      "y1    0.102402\n",
      "y2    0.090882\n",
      "Name: 138, dtype: float64\n",
      "Epochs = 16, learning rate = 0.01, mean categorical cross entropy error = y0    0.003577\n",
      "y1    0.098991\n",
      "y2    0.088198\n",
      "Name: 138, dtype: float64\n",
      "Epochs = 17, learning rate = 0.01, mean categorical cross entropy error = y0    0.003376\n",
      "y1    0.095860\n",
      "y2    0.085717\n",
      "Name: 138, dtype: float64\n",
      "Epochs = 18, learning rate = 0.01, mean categorical cross entropy error = y0    0.003197\n",
      "y1    0.092979\n",
      "y2    0.083425\n",
      "Name: 138, dtype: float64\n",
      "Epochs = 19, learning rate = 0.01, mean categorical cross entropy error = y0    0.003036\n",
      "y1    0.090325\n",
      "y2    0.081302\n",
      "Name: 138, dtype: float64\n",
      "Epochs = 20, learning rate = 0.01, mean categorical cross entropy error = y0    0.002890\n",
      "y1    0.087873\n",
      "y2    0.079335\n",
      "Name: 138, dtype: float64\n",
      "Epochs = 21, learning rate = 0.01, mean categorical cross entropy error = y0    0.002758\n",
      "y1    0.085603\n",
      "y2    0.077510\n",
      "Name: 138, dtype: float64\n",
      "Epochs = 22, learning rate = 0.01, mean categorical cross entropy error = y0    0.002637\n",
      "y1    0.083498\n",
      "y2    0.075812\n",
      "Name: 138, dtype: float64\n",
      "Epochs = 23, learning rate = 0.01, mean categorical cross entropy error = y0    0.002525\n",
      "y1    0.081542\n",
      "y2    0.074232\n",
      "Name: 138, dtype: float64\n",
      "Epochs = 24, learning rate = 0.01, mean categorical cross entropy error = y0    0.002422\n",
      "y1    0.079721\n",
      "y2    0.072757\n",
      "Name: 138, dtype: float64\n",
      "Epochs = 25, learning rate = 0.01, mean categorical cross entropy error = y0    0.002326\n",
      "y1    0.078022\n",
      "y2    0.071380\n",
      "Name: 138, dtype: float64\n",
      "Epochs = 26, learning rate = 0.01, mean categorical cross entropy error = y0    0.002237\n",
      "y1    0.076434\n",
      "y2    0.070090\n",
      "Name: 138, dtype: float64\n",
      "Epochs = 27, learning rate = 0.01, mean categorical cross entropy error = y0    0.002154\n",
      "y1    0.074946\n",
      "y2    0.068880\n",
      "Name: 138, dtype: float64\n",
      "Epochs = 28, learning rate = 0.01, mean categorical cross entropy error = y0    0.002076\n",
      "y1    0.073552\n",
      "y2    0.067745\n",
      "Name: 138, dtype: float64\n",
      "Epochs = 29, learning rate = 0.01, mean categorical cross entropy error = y0    0.002003\n",
      "y1    0.072241\n",
      "y2    0.066676\n",
      "Name: 138, dtype: float64\n",
      "predicted\n",
      "\n",
      "\n",
      "The accuracy is 100.0%.\n"
     ]
    }
   ],
   "source": [
    "#Iitializing the hyperparameters\n",
    "learning_rate = 0.01\n",
    "epochs = 30\n",
    "\n",
    "#calling the model, predicting the outcome and measuring the accuracy of the prediction\n",
    "predicted = perceptron(X_train, a_train, X_test, learning_rate, epochs)\n",
    "print(\"predicted\")\n",
    "accuracy = accuracy_score(y_test, predicted)\n",
    "print(\"\\n\")\n",
    "\n",
    "print(f\"The accuracy is {accuracy}%.\")"
   ]
  },
  {
   "cell_type": "markdown",
   "metadata": {
    "colab_type": "text",
    "id": "Y3Gdjw9NMl-E"
   },
   "source": [
    "#Creating a simple plot"
   ]
  },
  {
   "cell_type": "code",
   "execution_count": 24,
   "metadata": {
    "colab": {},
    "colab_type": "code",
    "id": "h8pt82iBPz6o"
   },
   "outputs": [],
   "source": [
    "sepal_length=np.zeros(X.shape[0])\n",
    "sepal_width=np.zeros(X.shape[0])\n",
    "#sepal_length"
   ]
  },
  {
   "cell_type": "code",
   "execution_count": 26,
   "metadata": {
    "colab": {
     "base_uri": "https://localhost:8080/",
     "height": 541
    },
    "colab_type": "code",
    "id": "1FlD85XyMrfl",
    "outputId": "d8fdac20-6d25-4438-beeb-e265c5a5f402"
   },
   "outputs": [
    {
     "data": {
      "image/png": "[encoded data removed]",
      "text/plain": [
       "<Figure size 1152x576 with 1 Axes>"
      ]
     },
     "metadata": {
      "needs_background": "light"
     },
     "output_type": "display_data"
    }
   ],
   "source": [
    "%matplotlib inline\n",
    "import matplotlib.pyplot as pl\n",
    "\n",
    "#setting figure size\n",
    "pl.rcParams['figure.figsize'] = (16, 8)\n",
    "#plotting scatter diagram using sepal length and sepal width\n",
    "for k in range(X.shape[0]):\n",
    "  sepal_length[k] = X.iloc[k][1]\n",
    "  sepal_width[k] = X.iloc[k][2]\n",
    "pl.scatter(sepal_length,sepal_width, marker='.')\n",
    "\n",
    "#setting title and labels\n",
    "pl.title('Scatter Diagram Representing Sepal Width & Sepal Length', fontsize=20)\n",
    "pl.xlabel('Sepal Length', fontsize=12)\n",
    "pl.ylabel('Sepal Width', fontsize=12)\n",
    "\n",
    "#displaying the diagram\n",
    "pl.show()\n"
   ]
  },
  {
   "cell_type": "markdown",
   "metadata": {},
   "source": [
    "### labelled visualizaton"
   ]
  },
  {
   "cell_type": "code",
   "execution_count": 76,
   "metadata": {},
   "outputs": [
    {
     "data": {
      "text/plain": [
       "<seaborn.axisgrid.FacetGrid at 0x7f531d4b3350>"
      ]
     },
     "execution_count": 76,
     "metadata": {},
     "output_type": "execute_result"
    },
    {
     "data": {
      "image/png": "[encoded data removed]",
      "text/plain": [
       "<Figure size 463.5x360 with 1 Axes>"
      ]
     },
     "metadata": {
      "needs_background": "light"
     },
     "output_type": "display_data"
    }
   ],
   "source": [
    "import seaborn as sns\n",
    "\n",
    "X['label'] = iris.target\n",
    "\n",
    "labels_dict = {0 : \"Iris-setosa\",\n",
    "              1 : \"Iris-versicolor\",\n",
    "              2 : \"Iris-virginica\"}\n",
    "\n",
    "X['label'] = X['label'].map(labels_dict)\n",
    "\n",
    "sns.lmplot('sepal_length', 'sepal_width', data=X, hue='label', fit_reg=False)"
   ]
  },
  {
   "cell_type": "markdown",
   "metadata": {},
   "source": []
  }
 ],
 "metadata": {
  "accelerator": "GPU",
  "colab": {
   "collapsed_sections": [],
   "name": "DX2P_SingleLayer_Perceptron.ipynb",
   "provenance": []
  },
  "kernelspec": {
   "display_name": "Python 3",
   "language": "python",
   "name": "python3"
  },
  "language_info": {
   "codemirror_mode": {
    "name": "ipython",
    "version": 3
   },
   "file_extension": ".py",
   "mimetype": "text/x-python",
   "name": "python",
   "nbconvert_exporter": "python",
   "pygments_lexer": "ipython3",
   "version": "3.7.4"
  }
 },
 "nbformat": 4,
 "nbformat_minor": 1
}
